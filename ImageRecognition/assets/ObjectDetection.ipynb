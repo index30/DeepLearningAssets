{
 "cells": [
  {
   "cell_type": "code",
   "execution_count": null,
   "metadata": {},
   "outputs": [],
   "source": [
    "from google.colab import drive\n",
    "drive.mount('/content/drive')"
   ]
  },
  {
   "cell_type": "code",
   "execution_count": null,
   "metadata": {},
   "outputs": [],
   "source": [
    "%cd 'Your Folder'"
   ]
  },
  {
   "cell_type": "code",
   "execution_count": null,
   "metadata": {},
   "outputs": [],
   "source": [
    "import cv2\n",
    "import glob\n",
    "from pathlib import Path\n",
    "import random\n",
    "import numpy as np\n",
    "import json\n",
    "from PIL import Image\n",
    "import sys\n",
    "from tqdm import tqdm\n",
    "import xml.etree.ElementTree as ET\n",
    "import matplotlib.pyplot as plt\n",
    "%matplotlib inline\n",
    "\n",
    "import torch\n",
    "import torch.nn as nn\n",
    "import torch.optim as optim\n",
    "import torch.utils.data as data\n",
    "import torchvision\n",
    "from torchvision import models, transforms\n",
    "\n",
    "sys.path.append('Your Folder')\n",
    "from utils.data_augmentation import Compose, ConvertFromInts, ToAbsoluteCoords, PhotometricDistort, Expand, RandomSampleCrop, RandomMirror, ToPercentCoords, Resize, SubtractMeans"
   ]
  },
  {
   "cell_type": "code",
   "execution_count": null,
   "metadata": {},
   "outputs": [],
   "source": [
    "BATCH_SIZE = 4\n",
    "SEED = 41\n",
    "VERBOSE = 1"
   ]
  },
  {
   "cell_type": "code",
   "execution_count": null,
   "metadata": {},
   "outputs": [],
   "source": [
    "torch.manual_seed(SEED)\n",
    "np.random.seed(SEED)\n",
    "random.seed(SEED)"
   ]
  },
  {
   "cell_type": "code",
   "execution_count": null,
   "metadata": {},
   "outputs": [],
   "source": [
    "'''\n",
    "データセットの集約等については省略(ケースバイケースなので)\n",
    "img_list : jpgのリスト\n",
    "anno_list : xmlのリスト\n",
    "として完成されている前提。\n",
    "'''\n",
    "\n",
    "train_img_list = '*'\n",
    "train_anno_list = '*'\n",
    "val_img_list = '*'\n",
    "val_anno_list = '*'"
   ]
  },
  {
   "cell_type": "code",
   "execution_count": null,
   "metadata": {},
   "outputs": [],
   "source": [
    "# アノテーション情報がXML形式という前提で、リストへと変換する\n",
    "class AnnoXml2AnnoList(object):\n",
    "    '''\n",
    "    Attributes\n",
    "    ----------\n",
    "    classes : list\n",
    "        クラス名を格納したリスト\n",
    "    '''\n",
    "    def __init__(self) -> None:\n",
    "        super().__init__()\n",
    "        self.classes = classes\n",
    "        \n",
    "    def __call__(self, xml_path, width, height):\n",
    "        '''\n",
    "        Parameters\n",
    "        ----------\n",
    "        xml_path : str\n",
    "            xmlファイルが格納されたパス\n",
    "        width : int\n",
    "            xml_pathのアノテーションファイルに対応したimageの幅\n",
    "        height : int\n",
    "            xml_pathのアノテーションファイルに対応したimageの高さ\n",
    "        \n",
    "        Returns\n",
    "        ----------\n",
    "        anno_list : [[xmin, ymin, xmax, ymax, label_ind], ...]\n",
    "            アノテーション情報を格納したリスト。\n",
    "            len(anno_list) == アノテーション情報に存在する物体数\n",
    "        '''\n",
    "        pass # TODO"
   ]
  }
 ],
 "metadata": {
  "language_info": {
   "name": "python"
  },
  "orig_nbformat": 4
 },
 "nbformat": 4,
 "nbformat_minor": 2
}
